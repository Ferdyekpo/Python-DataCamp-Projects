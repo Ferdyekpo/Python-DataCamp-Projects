As the data scientist on this project, I accessed two datasets, each representing data from one of the two experimental designs mentioned. 
The aim is to determine whether a factorial design or a randomized block design was used for the given experimental setup above and to analyze the dataset
